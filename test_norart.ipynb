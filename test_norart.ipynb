{
 "cells": [
  {
   "cell_type": "code",
   "execution_count": 1,
   "metadata": {},
   "outputs": [],
   "source": [
    "test_url = \"https://www.nb.no/oai/repository?verb=ListIdentifiers&from=2023-09-01&until=2023-09-07&set=norart&metadataPrefix=oai_dc\""
   ]
  },
  {
   "cell_type": "code",
   "execution_count": 2,
   "metadata": {},
   "outputs": [],
   "source": [
    "import xml.etree.ElementTree as ET\n",
    "import requests\n",
    "from datetime import datetime, timedelta\n",
    "\n",
    "class OAIHarvester:\n",
    "    def __init__(self, base_url):\n",
    "        self.base_url = base_url\n",
    "\n",
    "    def make_request(self, verb, **kwargs):\n",
    "        params = {'verb': verb}\n",
    "        params.update(kwargs)\n",
    "        response = requests.get(self.base_url, params=params)\n",
    "        return response\n",
    "\n",
    "    def generate_date_ranges(self, start_year, end_year):\n",
    "        start_date = datetime(start_year, 1, 1)\n",
    "        end_date = datetime(end_year, 12, 31)\n",
    "\n",
    "        while start_date < end_date:\n",
    "            end_of_month = start_date + timedelta(days=32)\n",
    "            end_of_month = end_of_month.replace(day=1) - timedelta(days=1)\n",
    "            yield (start_date, min(end_of_month, end_date))\n",
    "            start_date = end_of_month + timedelta(days=1)\n",
    "\n",
    "    def list_records(self, metadata_prefix, start_year, end_year, **kwargs):\n",
    "        all_records = []\n",
    "        \n",
    "        for start_date, end_date in self.generate_date_ranges(start_year, end_year):\n",
    "            resumption_token = None\n",
    "            while True:\n",
    "                if resumption_token:\n",
    "                    response = self.make_request('ListRecords', resumptionToken=resumption_token)\n",
    "                else:\n",
    "                    response = self.make_request('ListRecords', metadataPrefix=metadata_prefix, from_=start_date.strftime('%Y-%m-%d'), until=end_date.strftime('%Y-%m-%d'), **kwargs)\n",
    "\n",
    "                try:\n",
    "                    root = ET.fromstring(response.content)\n",
    "                    all_records.extend(root.findall('.//record'))\n",
    "                    \n",
    "                    resumption_token_element = root.find('.//resumptionToken')\n",
    "                    if resumption_token_element is not None and resumption_token_element.text:\n",
    "                        resumption_token = resumption_token_element.text\n",
    "                    else:\n",
    "                        break\n",
    "                except ET.ParseError:\n",
    "                    break\n",
    "\n",
    "        return all_records\n",
    "\n",
    "# Usage example\n",
    "harvester = OAIHarvester('http://example.com/oai')\n",
    "records = harvester.list_records('oai_dc', 2020, 2022)\n",
    "for record in records:\n",
    "    print(record)\n"
   ]
  },
  {
   "cell_type": "code",
   "execution_count": 13,
   "metadata": {},
   "outputs": [],
   "source": [
    "test_url = \"https://www.nb.no/oai/repository?verb=ListIdentifiers&from=2023-08-01&until=2023-08-07&set=norart&metadataPrefix=mods\"\n",
    "\n",
    "res = requests.get(test_url)"
   ]
  },
  {
   "cell_type": "code",
   "execution_count": null,
   "metadata": {},
   "outputs": [],
   "source": [
    "requests.get"
   ]
  },
  {
   "cell_type": "code",
   "execution_count": 14,
   "metadata": {},
   "outputs": [
    {
     "data": {
      "text/plain": [
       "<Response [500]>"
      ]
     },
     "execution_count": 14,
     "metadata": {},
     "output_type": "execute_result"
    }
   ],
   "source": [
    "res"
   ]
  },
  {
   "cell_type": "code",
   "execution_count": 9,
   "metadata": {},
   "outputs": [
    {
     "data": {
      "text/plain": [
       "'<html><head><title>Pivotal tc Runtime 3.1.2.RELEASE/7.0.64.B.RELEASE - Error report</title><style><!--H1 {font-family:Tahoma,Arial,sans-serif;color:white;background-color:#525D76;font-size:22px;} H2 {font-family:Tahoma,Arial,sans-serif;color:white;background-color:#525D76;font-size:16px;} H3 {font-family:Tahoma,Arial,sans-serif;color:white;background-color:#525D76;font-size:14px;} BODY {font-family:Tahoma,Arial,sans-serif;color:black;background-color:white;} B {font-family:Tahoma,Arial,sans-serif;color:white;background-color:#525D76;} P {font-family:Tahoma,Arial,sans-serif;background:white;color:black;font-size:12px;}A {color : black;}A.name {color : black;}HR {color : #525D76;}--></style> </head><body><h1>HTTP Status 500 - java.lang.RuntimeException: Request cannot be executed; I/O reactor status: STOPPED</h1><HR size=\"1\" noshade=\"noshade\"><p><b>type</b> Status report</p><p><b>message</b> <u>java.lang.RuntimeException: Request cannot be executed; I/O reactor status: STOPPED</u></p><p><b>description</b> <u>The server encountered an internal error that prevented it from fulfilling this request.</u></p><HR size=\"1\" noshade=\"noshade\"><h3>Pivotal tc Runtime 3.1.2.RELEASE/7.0.64.B.RELEASE</h3></body></html>'"
      ]
     },
     "execution_count": 9,
     "metadata": {},
     "output_type": "execute_result"
    }
   ],
   "source": [
    "res.text"
   ]
  }
 ],
 "metadata": {
  "kernelspec": {
   "display_name": "test-sickle-tDQukFmg-py3.10",
   "language": "python",
   "name": "python3"
  },
  "language_info": {
   "codemirror_mode": {
    "name": "ipython",
    "version": 3
   },
   "file_extension": ".py",
   "mimetype": "text/x-python",
   "name": "python",
   "nbconvert_exporter": "python",
   "pygments_lexer": "ipython3",
   "version": "3.10.12"
  }
 },
 "nbformat": 4,
 "nbformat_minor": 2
}
